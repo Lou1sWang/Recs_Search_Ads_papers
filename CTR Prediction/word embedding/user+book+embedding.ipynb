{
 "cells": [
  {
   "cell_type": "code",
   "execution_count": 5,
   "metadata": {},
   "outputs": [],
   "source": [
    "import pandas as pd\n",
    "from sklearn.model_selection import train_test_split"
   ]
  },
  {
   "cell_type": "code",
   "execution_count": 6,
   "metadata": {},
   "outputs": [],
   "source": [
    "dataset = pd.read_csv('ratings.csv')\n",
    "train, test = train_test_split(dataset, test_size=0.2, random_state=42)\n",
    "n_users = len(dataset.user_id.unique())\n",
    "n_books = len(dataset.book_id.unique())"
   ]
  },
  {
   "cell_type": "code",
   "execution_count": 19,
   "metadata": {},
   "outputs": [
    {
     "data": {
      "text/plain": [
       "(981756, 3)"
      ]
     },
     "execution_count": 19,
     "metadata": {},
     "output_type": "execute_result"
    }
   ],
   "source": [
    "dataset.shape"
   ]
  },
  {
   "cell_type": "code",
   "execution_count": 20,
   "metadata": {},
   "outputs": [
    {
     "data": {
      "text/plain": [
       "53424"
      ]
     },
     "execution_count": 20,
     "metadata": {},
     "output_type": "execute_result"
    }
   ],
   "source": [
    "n_users"
   ]
  },
  {
   "cell_type": "code",
   "execution_count": 14,
   "metadata": {},
   "outputs": [],
   "source": [
    "from keras.layers import Input, Embedding, Flatten, Dot, Dense\n",
    "from keras.models import Model\n",
    "book_input = Input(shape=[1], name=\"Book-Input\")\n",
    "book_embedding = Embedding(n_books+1, 5, name=\"Book-Embedding\")(book_input)\n",
    "book_vec = Flatten(name=\"Flatten-Books\")(book_embedding)\n",
    "user_input = Input(shape=[1], name=\"User-Input\")\n",
    "user_embedding = Embedding(n_users+1, 5, name=\"User-Embedding\")(user_input)\n",
    "user_vec = Flatten(name=\"Flatten-Users\")(user_embedding)\n",
    "prod = Dot(name=\"Dot-Product\", axes=1)([book_vec, user_vec])\n",
    "model = Model([user_input, book_input], prod)\n",
    "model.compile('adam', 'mean_squared_error')"
   ]
  },
  {
   "cell_type": "code",
   "execution_count": 15,
   "metadata": {},
   "outputs": [
    {
     "name": "stdout",
     "output_type": "stream",
     "text": [
      "Epoch 1/10\n",
      "785404/785404 [==============================] - 45s 57us/step - loss: 13.55790s - loss: 13.\n",
      "Epoch 2/10\n",
      "785404/785404 [==============================] - 45s 58us/step - loss: 3.8673\n",
      "Epoch 3/10\n",
      "785404/785404 [==============================] - 45s 58us/step - loss: 1.5987\n",
      "Epoch 4/10\n",
      "785404/785404 [==============================] - 47s 59us/step - loss: 1.1232\n",
      "Epoch 5/10\n",
      "785404/785404 [==============================] - 46s 59us/step - loss: 0.9324\n",
      "Epoch 6/10\n",
      "785404/785404 [==============================] - 44s 56us/step - loss: 0.8340\n",
      "Epoch 7/10\n",
      "785404/785404 [==============================] - 43s 55us/step - loss: 0.7776\n",
      "Epoch 8/10\n",
      "785404/785404 [==============================] - 44s 56us/step - loss: 0.7428\n",
      "Epoch 9/10\n",
      "785404/785404 [==============================] - 44s 55us/step - loss: 0.7199\n",
      "Epoch 10/10\n",
      "785404/785404 [==============================] - 46s 59us/step - loss: 0.7036\n"
     ]
    }
   ],
   "source": [
    "history = model.fit([train.user_id, train.book_id], train.rating, epochs=10, verbose=1)\n"
   ]
  },
  {
   "cell_type": "code",
   "execution_count": 16,
   "metadata": {},
   "outputs": [],
   "source": [
    "#save the model\n",
    "model.save('regression_model.h5')"
   ]
  },
  {
   "cell_type": "code",
   "execution_count": 17,
   "metadata": {},
   "outputs": [],
   "source": [
    "# Extract embeddings\n",
    "book_em = model.get_layer('Book-Embedding')\n",
    "book_em_weights = book_em.get_weights()[0]\n"
   ]
  },
  {
   "cell_type": "code",
   "execution_count": 23,
   "metadata": {},
   "outputs": [],
   "source": [
    "#from sklearn.manifold import TSNE\n",
    "#tsne = TSNE(n_components=2, verbose=1, perplexity=40, n_iter=300)\n",
    "#tnse_results = tsne.fit_transform(book_em_weights)\n",
    "#sns.scatterplot(x=tnse_results[:,0], y=tnse_results[:,1])"
   ]
  },
  {
   "cell_type": "code",
   "execution_count": 24,
   "metadata": {},
   "outputs": [],
   "source": [
    "#from sklearn.decomposition import PCA\n",
    "#import seaborn as sns\n",
    "#pca = PCA(n_components=2)\n",
    "#pca_result = pca.fit_transform(book_em_weights)\n",
    "#sns.scatterplot(x=pca_result[:,0], y=pca_result[:,1])"
   ]
  },
  {
   "cell_type": "code",
   "execution_count": 26,
   "metadata": {},
   "outputs": [
    {
     "name": "stdout",
     "output_type": "stream",
     "text": [
      "[7843 9841 8998 8925 8232]\n",
      "[4.701331  4.4873524 4.422167  4.3669844 4.339404 ]\n"
     ]
    }
   ],
   "source": [
    "# Creating dataset for making recommendations for the first user\n",
    "import numpy as np\n",
    "book_data = np.array(list(set(dataset.book_id)))\n",
    "user = np.array([1 for i in range(len(book_data))])\n",
    "predictions = model.predict([user, book_data])\n",
    "predictions = np.array([a[0] for a in predictions])\n",
    "recommended_book_ids = (-predictions).argsort()[:5]\n",
    "print(recommended_book_ids)\n",
    "print(predictions[recommended_book_ids])"
   ]
  },
  {
   "cell_type": "code",
   "execution_count": null,
   "metadata": {},
   "outputs": [],
   "source": [
    "#A few things you could add to get better results:\n",
    "\n",
    "#Add fully-connected layers after the dot product\n",
    "#Train for more epochs\n",
    "#Scale the ratings column"
   ]
  }
 ],
 "metadata": {
  "kernelspec": {
   "display_name": "Python 3",
   "language": "python",
   "name": "python3"
  },
  "language_info": {
   "codemirror_mode": {
    "name": "ipython",
    "version": 3
   },
   "file_extension": ".py",
   "mimetype": "text/x-python",
   "name": "python",
   "nbconvert_exporter": "python",
   "pygments_lexer": "ipython3",
   "version": "3.6.5"
  }
 },
 "nbformat": 4,
 "nbformat_minor": 2
}
